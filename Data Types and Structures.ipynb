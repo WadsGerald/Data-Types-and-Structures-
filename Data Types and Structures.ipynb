{
 "cells": [
  {
   "cell_type": "markdown",
   "id": "12889ac8-614e-417b-bd28-6027c448356a",
   "metadata": {},
   "source": [
    "1. What are data structures, and why are they important?\n",
    "\n",
    "\n",
    "Data structures are ways to organize and store data so that it can be accessed and modified efficiently. They are crucial because they enable efficient data manipulation, storage, and retrieval, which is essential for building efficient algorithms and applications."
   ]
  },
  {
   "cell_type": "markdown",
   "id": "f403d44b-2a02-464c-a915-2de7bf630be1",
   "metadata": {},
   "source": [
    "2.Explain the difference between mutable and immutable data types with examples.\n",
    "\n",
    "Mutable data types can be changed after creation, while immutable data types cannot. Examples:\n",
    "\n",
    "Mutable: Lists (my_list = [1, 2, 3] → my_list[0] = 4 changes the list)\n",
    "\n",
    "Immutable: Tuples (my_tuple = (1, 2, 3) → my_tuple[0] = 4 raises an error)"
   ]
  },
  {
   "cell_type": "markdown",
   "id": "9d7a8a1e-47a7-42ac-8c79-bbcfe7a625f2",
   "metadata": {},
   "source": [
    "3. What are the main differences between lists and tuples in Python?\n",
    "\n",
    "Lists are mutable, can change after creation, and are defined with square brackets [].\n",
    "Tuples are immutable, cannot change after creation, and are defined with parentheses ()."
   ]
  },
  {
   "cell_type": "markdown",
   "id": "33ebeeeb-8ce1-4db8-8a34-3f094272dcf7",
   "metadata": {},
   "source": [
    "4. Describe how dictionaries store data.\n",
    "\n",
    "\n",
    "Dictionaries store data as key value pairs, where each key is unique and maps to a specific value. They use a hashing mechanism to allow for fast access, modification, and retrieval."
   ]
  },
  {
   "cell_type": "markdown",
   "id": "6ee044c0-8268-4c52-8d71-08b8fea9cd55",
   "metadata": {},
   "source": [
    "5. Why might you use a set instead of a list in Python?\n",
    "\n",
    "\n",
    "Sets are used to store unique elements without duplicates and offer faster membership tests due to their underlying hash table implementation."
   ]
  },
  {
   "cell_type": "markdown",
   "id": "caaa0d4b-c53c-4606-b1c4-1881cc874a2d",
   "metadata": {},
   "source": [
    "6. What is a string in Python, and how is it different from a list?\n",
    "\n",
    "\n",
    "A string is a sequence of characters and is immutable. Unlike lists, which can store any data type, strings only store characters, and their elements cannot be changed after creation."
   ]
  },
  {
   "cell_type": "markdown",
   "id": "c166671c-ffe0-4b84-8334-20ea5091305d",
   "metadata": {},
   "source": [
    "7. How do tuples ensure data integrity in Python?\n",
    "\n",
    "   \n",
    "Tuples are immutable, so once created, their elements cannot be changed. This immutability ensures that the data stored in a tuple remains constant throughout the program."
   ]
  },
  {
   "cell_type": "markdown",
   "id": "0034324a-886a-4f66-98e8-43afd401ac4c",
   "metadata": {},
   "source": [
    "8. What is a hash table, and how does it relate to dictionaries in Python?\n",
    "\n",
    "A hash table is a data structure that uses a hash function to map keys to values, allowing for fast data retrieval. Python dictionaries use hash tables to implement their key-value pair storage."
   ]
  },
  {
   "cell_type": "markdown",
   "id": "072dc67c-f881-441f-bcc3-353a351d4721",
   "metadata": {},
   "source": [
    "9. Can lists contain different data types in Python?\n",
    "\n",
    "Yes, lists in Python can contain elements of different data types, such as integers, strings, and objects."
   ]
  },
  {
   "cell_type": "markdown",
   "id": "03d93696-b178-4ac4-903d-88bb371eb9ad",
   "metadata": {},
   "source": [
    "10. Explain why strings are immutable in Python.\n",
    "\n",
    "Strings are immutable in Python to ensure that they remain consistent and secure. This immutability also allows strings to be used as keys in dictionaries and other data structures that require immutability."
   ]
  },
  {
   "cell_type": "markdown",
   "id": "9db5166e-ad83-4be8-9ceb-d25bc2bce055",
   "metadata": {},
   "source": [
    "11. What advantages do dictionaries offer over lists for certain tasks?\n",
    "\n",
    "Dictionaries offer fast lookups, insertions, and deletions using keys, making them ideal for tasks where data needs to be accessed by a unique identifier."
   ]
  },
  {
   "cell_type": "markdown",
   "id": "910af9a4-972e-42e0-80d3-b9a04fb8d9ae",
   "metadata": {},
   "source": [
    "12. Describe a scenario where using a tuple would be preferable over a list.\n",
    "\n",
    "When you need to store fixed data that shouldn't change, such as database records, coordinates, or dictionary keys."
   ]
  },
  {
   "cell_type": "markdown",
   "id": "e4053fef-cef9-42e2-be3c-c9c8af308936",
   "metadata": {},
   "source": [
    "13. How do sets handle duplicate values in Python?\n",
    "Sets automatically remove duplicate values when created or updated."
   ]
  },
  {
   "cell_type": "markdown",
   "id": "b7ce314c-ebc4-41df-9638-02dd0297781f",
   "metadata": {},
   "source": [
    "14. How does the “in” keyword work differently for lists and dictionaries?\n",
    "\n",
    "In lists, it checks if a value exists in the sequence (O(n)).\n",
    "In dictionaries, it checks if a key exists (O(1))."
   ]
  },
  {
   "cell_type": "markdown",
   "id": "e0254742-ae26-4a58-8d98-caa9cdc6ad96",
   "metadata": {},
   "source": [
    "15. Can you modify the elements of a tuple? Explain why or why not.\n",
    "No, tuples are immutable, meaning their elements cannot be changed after creation."
   ]
  },
  {
   "cell_type": "markdown",
   "id": "d83ca06d-3152-4b0f-be6b-d8272c9a14e5",
   "metadata": {},
   "source": [
    "16. What is a nested dictionary, and give an example of its use case?\n",
    "A dictionary within a dictionary is called a nested dictionary. It is useful for hierarchical data storage."
   ]
  },
  {
   "cell_type": "code",
   "execution_count": 1,
   "id": "88a4210c-e79f-4035-89e3-178a1aead50e",
   "metadata": {},
   "outputs": [],
   "source": [
    "student = {\n",
    "    \"name\": \"Gerald\",\n",
    "    \"grades\": {\"math\": 90, \"physics\": 85}\n",
    "}\n"
   ]
  },
  {
   "cell_type": "markdown",
   "id": "39d63125-43af-4f0e-ada0-69f2316871c3",
   "metadata": {},
   "source": [
    "17. Describe the time complexity of accessing elements in a dictionary.\n",
    "\n",
    "The average time complexity is O(1) (constant time) due to hash table lookup, but it can be O(n) in worst case scenarios (hash collisions)."
   ]
  },
  {
   "cell_type": "markdown",
   "id": "88fd8f31-6103-4b0d-a63b-52ed88a8d9bc",
   "metadata": {},
   "source": [
    "18. In what situations are lists preferred over dictionaries?\n",
    "\n",
    "When maintaining order is important.\n",
    "When sequential operations (sorting, slicing) are needed.\n",
    "When elements don’t need unique keys."
   ]
  },
  {
   "cell_type": "markdown",
   "id": "bef066b4-0615-47c2-8ca8-7fa1980b4e45",
   "metadata": {},
   "source": [
    "19. Why are dictionaries considered unordered, and how does that affect data retrieval?\n",
    "\n",
    "Dictionaries are considered unordered because they store key-value pairs using a hash table, which does not maintain a specific order of elements.\n",
    "Effect on data retrieval:\n",
    "\n",
    "Since dictionaries use hashing, lookup operations (dict[key]) are very fast (O(1)) regardless of order.\n",
    "Unlike lists, dictionaries cannot be indexed by position; they are accessed using keys.\n",
    "Iterating over a dictionary in versions before Python 3.7 could return items in an unpredictable order."
   ]
  },
  {
   "cell_type": "markdown",
   "id": "f3a83b00-3509-43aa-b952-ed2445d64af6",
   "metadata": {},
   "source": [
    "20. Explain the difference between a list and a dictionary in terms of data retrieval.\n",
    "\n",
    "Lists retrieve elements by index, requiring O(n) lookup for search.\n",
    "Dictionaries retrieve values using keys in O(1) time."
   ]
  },
  {
   "cell_type": "code",
   "execution_count": null,
   "id": "05d4a881-3d26-47ec-a31a-1f860e37fd50",
   "metadata": {},
   "outputs": [],
   "source": []
  },
  {
   "cell_type": "code",
   "execution_count": null,
   "id": "1d465fb4-97ea-49a0-8988-aa6129a14d75",
   "metadata": {},
   "outputs": [],
   "source": [
    "PRACTICAL QUESTIONS"
   ]
  },
  {
   "cell_type": "markdown",
   "id": "56a44f8b-7991-4487-9bd4-c6d4e8da6e2b",
   "metadata": {},
   "source": [
    "1. Write a code to Create and print a string with your name."
   ]
  },
  {
   "cell_type": "code",
   "execution_count": 3,
   "id": "d4ea1efd-e4dd-45ce-93f7-7013623014d7",
   "metadata": {},
   "outputs": [
    {
     "name": "stdout",
     "output_type": "stream",
     "text": [
      "Wadada\n"
     ]
    }
   ],
   "source": [
    "name = \"Wadada\"\n",
    "print(name)\n"
   ]
  },
  {
   "cell_type": "markdown",
   "id": "9bb46560-e879-427f-adaa-e8332caa1ee0",
   "metadata": {},
   "source": [
    "2. Write a code to Find the length of the string \"Hello World\":"
   ]
  },
  {
   "cell_type": "code",
   "execution_count": 5,
   "id": "76245078-e2a2-4bf7-a9ff-f3be3e0ec5d7",
   "metadata": {},
   "outputs": [
    {
     "name": "stdout",
     "output_type": "stream",
     "text": [
      "11\n"
     ]
    }
   ],
   "source": [
    "string = \"Hello World\"\n",
    "length = len(string)\n",
    "print(length)  \n"
   ]
  },
  {
   "cell_type": "markdown",
   "id": "7aa61e59-4298-48a6-8c72-fef0ee0c4afa",
   "metadata": {},
   "source": [
    "3. Write a code to Slice the first 3 characters from the string \"Python Programming\":"
   ]
  },
  {
   "cell_type": "code",
   "execution_count": 7,
   "id": "f004244e-1964-4eff-b48d-782bfae50e4b",
   "metadata": {},
   "outputs": [
    {
     "name": "stdout",
     "output_type": "stream",
     "text": [
      "Pyt\n"
     ]
    }
   ],
   "source": [
    "string = \"Python Programming\"\n",
    "slice = string[:3]\n",
    "print(slice)  \n"
   ]
  },
  {
   "cell_type": "markdown",
   "id": "d63d81aa-d92a-4f52-a96f-e39c9d4206a4",
   "metadata": {},
   "source": [
    "4. Write a code to Convert the string \"hello\" to uppercase:"
   ]
  },
  {
   "cell_type": "code",
   "execution_count": 9,
   "id": "3965bcab-4fb6-496b-a50a-0bfe76cca4bb",
   "metadata": {},
   "outputs": [
    {
     "name": "stdout",
     "output_type": "stream",
     "text": [
      "HELLO\n"
     ]
    }
   ],
   "source": [
    "string = \"hello\"\n",
    "uppercase_string = string.upper()\n",
    "print(uppercase_string) \n"
   ]
  },
  {
   "cell_type": "markdown",
   "id": "9e9c507f-d954-4d2a-b15e-53be194a91c7",
   "metadata": {},
   "source": [
    "5. Write a code to Replace the word \"apple\" with \"orange\" in the string \"I like apple\":"
   ]
  },
  {
   "cell_type": "code",
   "execution_count": 11,
   "id": "cf2b21f8-5bf1-4807-bea4-97191df90203",
   "metadata": {},
   "outputs": [
    {
     "name": "stdout",
     "output_type": "stream",
     "text": [
      "I like orange\n"
     ]
    }
   ],
   "source": [
    "string = \"I like apple\"\n",
    "new_string = string.replace(\"apple\", \"orange\")\n",
    "print(new_string)  \n"
   ]
  },
  {
   "cell_type": "markdown",
   "id": "944c0626-b8a7-471b-8aad-88b7954da6ca",
   "metadata": {},
   "source": [
    "6. Write a code create and print a list with numbers 1 to 5:"
   ]
  },
  {
   "cell_type": "code",
   "execution_count": 13,
   "id": "114e36c0-7418-4182-829a-b41f4a1fdae2",
   "metadata": {},
   "outputs": [
    {
     "name": "stdout",
     "output_type": "stream",
     "text": [
      "[1, 2, 3, 4, 5]\n"
     ]
    }
   ],
   "source": [
    "numbers = [1, 2, 3, 4, 5]\n",
    "print(numbers)\n"
   ]
  },
  {
   "cell_type": "markdown",
   "id": "49dec41b-3512-425e-811a-2fa4296c19d3",
   "metadata": {},
   "source": [
    "7. Write a code to Append the number 10 to the list [1, 2, 3, 4]:"
   ]
  },
  {
   "cell_type": "code",
   "execution_count": 15,
   "id": "6d429bc7-7788-4abc-8810-6bf9ac4bcc7b",
   "metadata": {},
   "outputs": [
    {
     "name": "stdout",
     "output_type": "stream",
     "text": [
      "[1, 2, 3, 4, 10]\n"
     ]
    }
   ],
   "source": [
    "numbers = [1, 2, 3, 4]\n",
    "numbers.append(10)\n",
    "print(numbers)  \n"
   ]
  },
  {
   "cell_type": "markdown",
   "id": "66ec8e44-4e7e-45d8-924a-a2386ee5c8f1",
   "metadata": {},
   "source": [
    "8. Write a code to Remove the number 3 from the list [1, 2, 3, 4, 5]:"
   ]
  },
  {
   "cell_type": "code",
   "execution_count": 17,
   "id": "c21376ff-b694-4018-9716-381c7a32be36",
   "metadata": {},
   "outputs": [
    {
     "name": "stdout",
     "output_type": "stream",
     "text": [
      "[1, 2, 4, 5]\n"
     ]
    }
   ],
   "source": [
    "numbers = [1, 2, 3, 4, 5]\n",
    "numbers.remove(3)\n",
    "print(numbers)  \n"
   ]
  },
  {
   "cell_type": "markdown",
   "id": "7fc17442-1c54-41f9-8729-34cf28c851cd",
   "metadata": {},
   "source": [
    "9. Write a code to Access the second element in the list ['a', 'b', 'c', 'd']:"
   ]
  },
  {
   "cell_type": "code",
   "execution_count": 19,
   "id": "3f316ea2-aa9d-4aed-b984-e1ff8b26b243",
   "metadata": {},
   "outputs": [
    {
     "name": "stdout",
     "output_type": "stream",
     "text": [
      "b\n"
     ]
    }
   ],
   "source": [
    "letters = ['a', 'b', 'c', 'd']\n",
    "second_element = letters[1]\n",
    "print(second_element)  \n"
   ]
  },
  {
   "cell_type": "markdown",
   "id": "3ab598f1-9b96-4ec1-8399-acf70c926de3",
   "metadata": {},
   "source": [
    "10. Write a code to reverse the list [10, 20, 30, 40, 50]:"
   ]
  },
  {
   "cell_type": "code",
   "execution_count": 21,
   "id": "54e01605-7e25-4e25-9c4e-677c204076aa",
   "metadata": {},
   "outputs": [
    {
     "name": "stdout",
     "output_type": "stream",
     "text": [
      "[50, 40, 30, 20, 10]\n"
     ]
    }
   ],
   "source": [
    "numbers = [10, 20, 30, 40, 50]\n",
    "numbers.reverse()\n",
    "print(numbers) \n"
   ]
  },
  {
   "cell_type": "markdown",
   "id": "d45df2ca-0d0a-448b-b696-755948ecc4b8",
   "metadata": {},
   "source": [
    "11. Write a code to Create and print a tuple with the elements 100, 200, 300:"
   ]
  },
  {
   "cell_type": "code",
   "execution_count": 23,
   "id": "14edc145-b3d4-402e-977c-183f561a5adb",
   "metadata": {},
   "outputs": [
    {
     "name": "stdout",
     "output_type": "stream",
     "text": [
      "(100, 200, 300)\n"
     ]
    }
   ],
   "source": [
    "my_tuple = (100, 200, 300)\n",
    "print(my_tuple)\n"
   ]
  },
  {
   "cell_type": "markdown",
   "id": "482e5ebe-1026-4765-9120-8b6ed927f289",
   "metadata": {},
   "source": [
    "12. Write a code to access the second-to-last element of the tuple ('red', 'green', 'blue', 'yellow'):"
   ]
  },
  {
   "cell_type": "code",
   "execution_count": 25,
   "id": "2fc1b00d-a44b-40b7-95b5-7485e59abc80",
   "metadata": {},
   "outputs": [
    {
     "name": "stdout",
     "output_type": "stream",
     "text": [
      "blue\n"
     ]
    }
   ],
   "source": [
    "colors = ('red', 'green', 'blue', 'yellow')\n",
    "second_to_last = colors[-2]\n",
    "print(second_to_last)  \n"
   ]
  },
  {
   "cell_type": "markdown",
   "id": "2063a662-19b8-4a1f-96ef-22c4e1238f81",
   "metadata": {},
   "source": [
    "13. Write a code to Find the minimum number in the tuple (10, 20, 5, 15):"
   ]
  },
  {
   "cell_type": "code",
   "execution_count": 27,
   "id": "4da789b2-71a5-4c14-8d05-cf336fa55503",
   "metadata": {},
   "outputs": [
    {
     "name": "stdout",
     "output_type": "stream",
     "text": [
      "5\n"
     ]
    }
   ],
   "source": [
    "numbers = (10, 20, 5, 15)\n",
    "min_number = min(numbers)\n",
    "print(min_number) \n"
   ]
  },
  {
   "cell_type": "markdown",
   "id": "a8c154a4-a420-4fb4-956c-181574483197",
   "metadata": {},
   "source": [
    "14. Write a code to find the index of the element 'cat' in the tuple ('dog', 'cat', 'rabbit'):"
   ]
  },
  {
   "cell_type": "code",
   "execution_count": 29,
   "id": "d34ca838-c2d9-4a20-b993-90adedd28cc4",
   "metadata": {},
   "outputs": [
    {
     "name": "stdout",
     "output_type": "stream",
     "text": [
      "1\n"
     ]
    }
   ],
   "source": [
    "animals = ('dog', 'cat', 'rabbit')\n",
    "index_of_cat = animals.index('cat')\n",
    "print(index_of_cat)  \n"
   ]
  },
  {
   "cell_type": "markdown",
   "id": "2306b44f-c94a-4b5b-a7e1-9995fd3fa49e",
   "metadata": {},
   "source": [
    "15. Write a code to create a tuple containing three different fruits and check if \"kiwi\" is in it:"
   ]
  },
  {
   "cell_type": "code",
   "execution_count": 31,
   "id": "c12a50d4-84e7-4e53-99ce-9cd580ac7e70",
   "metadata": {},
   "outputs": [
    {
     "name": "stdout",
     "output_type": "stream",
     "text": [
      "False\n"
     ]
    }
   ],
   "source": [
    "fruits = (\"apple\", \"banana\", \"cherry\")\n",
    "is_kiwi_in_fruits = \"kiwi\" in fruits\n",
    "print(is_kiwi_in_fruits)  \n"
   ]
  },
  {
   "cell_type": "markdown",
   "id": "bd4eec7d-cfca-43f5-a52b-59a2847b3389",
   "metadata": {},
   "source": [
    "16. Write a code to create a set with the elements 'a', 'b', 'c' and print it:"
   ]
  },
  {
   "cell_type": "code",
   "execution_count": 33,
   "id": "f716de8c-b42e-4dbd-8e98-e89fd2e03faa",
   "metadata": {},
   "outputs": [
    {
     "name": "stdout",
     "output_type": "stream",
     "text": [
      "{'c', 'a', 'b'}\n"
     ]
    }
   ],
   "source": [
    "my_set = {'a', 'b', 'c'}\n",
    "print(my_set) \n"
   ]
  },
  {
   "cell_type": "markdown",
   "id": "5f3373fb-8559-4f70-9277-3d048f416f74",
   "metadata": {},
   "source": [
    "17. Write a code to clear all elements from the set {1, 2, 3, 4, 5}:"
   ]
  },
  {
   "cell_type": "code",
   "execution_count": 35,
   "id": "aeac1f92-6d98-4e21-a501-554cb021211d",
   "metadata": {},
   "outputs": [
    {
     "name": "stdout",
     "output_type": "stream",
     "text": [
      "set()\n"
     ]
    }
   ],
   "source": [
    "my_set = {1, 2, 3, 4, 5}\n",
    "my_set.clear()\n",
    "print(my_set) "
   ]
  },
  {
   "cell_type": "markdown",
   "id": "063d9f72-cfdf-40bf-bc59-dbc3afc31dea",
   "metadata": {},
   "source": [
    "18. Write a code to remove the element 4 from the set {1, 2, 3, 4}:"
   ]
  },
  {
   "cell_type": "code",
   "execution_count": 37,
   "id": "3f0fa85b-45e9-4680-9f30-0296dcc5e38d",
   "metadata": {},
   "outputs": [
    {
     "name": "stdout",
     "output_type": "stream",
     "text": [
      "{1, 2, 3}\n"
     ]
    }
   ],
   "source": [
    "my_set = {1, 2, 3, 4}\n",
    "my_set.remove(4)\n",
    "print(my_set)  \n"
   ]
  },
  {
   "cell_type": "markdown",
   "id": "7bc5604d-8e6d-4d27-8164-a66a89ec1ce0",
   "metadata": {},
   "source": [
    "19. Write a code to find the union of two sets {1, 2, 3} and {3, 4, 5}:"
   ]
  },
  {
   "cell_type": "code",
   "execution_count": 39,
   "id": "938b6963-96f9-4917-966f-851ff5a7d341",
   "metadata": {},
   "outputs": [
    {
     "name": "stdout",
     "output_type": "stream",
     "text": [
      "{1, 2, 3, 4, 5}\n"
     ]
    }
   ],
   "source": [
    "set1 = {1, 2, 3}\n",
    "set2 = {3, 4, 5}\n",
    "union_set = set1.union(set2)\n",
    "print(union_set) \n"
   ]
  },
  {
   "cell_type": "markdown",
   "id": "0509c0d1-a68a-464f-9b2a-eb11b79fd091",
   "metadata": {},
   "source": [
    "20. Write a code to find the intersection of two sets {1, 2, 3} and {2, 3, 4}:"
   ]
  },
  {
   "cell_type": "code",
   "execution_count": 41,
   "id": "9bd5a5a8-2774-496f-a61e-ca1210afd96a",
   "metadata": {},
   "outputs": [
    {
     "name": "stdout",
     "output_type": "stream",
     "text": [
      "{2, 3}\n"
     ]
    }
   ],
   "source": [
    "set1 = {1, 2, 3}\n",
    "set2 = {2, 3, 4}\n",
    "intersection_set = set1.intersection(set2)\n",
    "print(intersection_set)  \n"
   ]
  },
  {
   "cell_type": "markdown",
   "id": "da5397fe-dbc2-4c40-b85c-e7a6734a4c3c",
   "metadata": {},
   "source": [
    "21. Write a code to create a dictionary with the keys \"name\", \"age\", and \"city\", and print it:"
   ]
  },
  {
   "cell_type": "code",
   "execution_count": 43,
   "id": "142339fa-6fdf-4368-af09-7ac226bef544",
   "metadata": {},
   "outputs": [
    {
     "name": "stdout",
     "output_type": "stream",
     "text": [
      "{'name': 'John', 'age': 25, 'city': 'New York'}\n"
     ]
    }
   ],
   "source": [
    "person = {\n",
    "    \"name\": \"John\",\n",
    "    \"age\": 25,\n",
    "    \"city\": \"New York\"\n",
    "}\n",
    "print(person)\n"
   ]
  },
  {
   "cell_type": "markdown",
   "id": "de78e984-20d2-4bac-a5a6-7e78f2fd659b",
   "metadata": {},
   "source": [
    "22. Write a code to add a new key-value pair \"country\": \"USA\" to the dictionary {'name': 'John', 'age': 25}:"
   ]
  },
  {
   "cell_type": "code",
   "execution_count": 45,
   "id": "4dca14d9-5341-451d-9bc1-50a06546c4f6",
   "metadata": {},
   "outputs": [
    {
     "name": "stdout",
     "output_type": "stream",
     "text": [
      "{'name': 'John', 'age': 25, 'country': 'USA'}\n"
     ]
    }
   ],
   "source": [
    "person = {\n",
    "    \"name\": \"John\",\n",
    "    \"age\": 25\n",
    "}\n",
    "person[\"country\"] = \"USA\"\n",
    "print(person) \n"
   ]
  },
  {
   "cell_type": "markdown",
   "id": "caebb829-f820-4f17-bd2f-78fac51f7f3f",
   "metadata": {},
   "source": [
    "23. Write a code to access the value associated with the key \"name\" in the dictionary {'name': 'Alice', 'age': 30}:"
   ]
  },
  {
   "cell_type": "code",
   "execution_count": 47,
   "id": "9faccf33-6cd0-45be-a7e6-a465747d5d94",
   "metadata": {},
   "outputs": [
    {
     "name": "stdout",
     "output_type": "stream",
     "text": [
      "Alice\n"
     ]
    }
   ],
   "source": [
    "person = {\n",
    "    \"name\": \"Alice\",\n",
    "    \"age\": 30\n",
    "}\n",
    "name = person[\"name\"]\n",
    "print(name) \n"
   ]
  },
  {
   "cell_type": "markdown",
   "id": "22379dbe-bb20-4306-b85c-da0c607caa47",
   "metadata": {},
   "source": [
    "24. Write a code to remove the key \"age\" from the dictionary {'name': 'Bob', 'age': 22, 'city': 'New York'}:"
   ]
  },
  {
   "cell_type": "code",
   "execution_count": 49,
   "id": "2a90a9b9-3641-4699-ab92-53560bc85519",
   "metadata": {},
   "outputs": [
    {
     "name": "stdout",
     "output_type": "stream",
     "text": [
      "{'name': 'Bob', 'city': 'New York'}\n"
     ]
    }
   ],
   "source": [
    "person = {\n",
    "    \"name\": \"Bob\",\n",
    "    \"age\": 22,\n",
    "    \"city\": \"New York\"\n",
    "}\n",
    "del person[\"age\"]\n",
    "print(person)  \n"
   ]
  },
  {
   "cell_type": "markdown",
   "id": "77e5dec7-5490-4b25-992b-ddc40596e47c",
   "metadata": {},
   "source": [
    "25. Write a code to check if the key \"city\" exists in the dictionary {'name': 'Alice', 'city': 'Paris'}"
   ]
  },
  {
   "cell_type": "code",
   "execution_count": null,
   "id": "dc541d7e-faa9-4848-aea1-6c77f4a29631",
   "metadata": {},
   "outputs": [],
   "source": [
    "\n",
    "person = {'name': 'Alice', 'city': 'Paris'}\n",
    "\n",
    "\n",
    "if 'city' in person:\n",
    "    print(\"The key 'city' exists in the dictionary.\")\n",
    "else:\n",
    "    print(\"The key 'city' does not exist in the dictionary.\")\n"
   ]
  },
  {
   "cell_type": "markdown",
   "id": "ccd35cfd-a4a7-4f09-9edb-7752542bd4c1",
   "metadata": {},
   "source": [
    "26. Write a code to create a list, a tuple, and a dictionary, and print them all:"
   ]
  },
  {
   "cell_type": "code",
   "execution_count": 51,
   "id": "db8267a8-17be-4064-b106-c0912bb94b58",
   "metadata": {},
   "outputs": [
    {
     "name": "stdout",
     "output_type": "stream",
     "text": [
      "[1, 2, 3]\n",
      "(4, 5, 6)\n",
      "{'key1': 'value1', 'key2': 'value2'}\n"
     ]
    }
   ],
   "source": [
    "my_list = [1, 2, 3]\n",
    "my_tuple = (4, 5, 6)\n",
    "my_dict = {\"key1\": \"value1\", \"key2\": \"value2\"}\n",
    "\n",
    "print(my_list)  \n",
    "print(my_tuple)  \n",
    "print(my_dict)  \n"
   ]
  },
  {
   "cell_type": "markdown",
   "id": "f1878fbb-85f4-4d59-9f63-c322ffb765ca",
   "metadata": {},
   "source": [
    "27. Write a code to create a list of 5 random numbers between 1 and 100, sort it in ascending order, and print the result:"
   ]
  },
  {
   "cell_type": "code",
   "execution_count": 53,
   "id": "b19a559d-cc84-4430-be1a-9fac93852d8c",
   "metadata": {},
   "outputs": [
    {
     "name": "stdout",
     "output_type": "stream",
     "text": [
      "[3, 24, 39, 79, 84]\n"
     ]
    }
   ],
   "source": [
    "import random\n",
    "\n",
    "random_numbers = [random.randint(1, 100) for _ in range(5)]\n",
    "random_numbers.sort()\n",
    "print(random_numbers)\n"
   ]
  },
  {
   "cell_type": "markdown",
   "id": "aa9177bb-95a6-4245-9417-c4467c5461f6",
   "metadata": {},
   "source": [
    "28. Write a code to create a list with strings and print the element at the third index:"
   ]
  },
  {
   "cell_type": "code",
   "execution_count": 55,
   "id": "797b2d9c-0c57-4b7c-a114-c5e7071837df",
   "metadata": {},
   "outputs": [
    {
     "name": "stdout",
     "output_type": "stream",
     "text": [
      "date\n"
     ]
    }
   ],
   "source": [
    "my_list = [\"apple\", \"banana\", \"cherry\", \"date\"]\n",
    "third_element = my_list[3]\n",
    "print(third_element)  \n"
   ]
  },
  {
   "cell_type": "markdown",
   "id": "63081c44-c081-4f3f-8e20-184f8af9e547",
   "metadata": {},
   "source": [
    "29. Write a code to combine two dictionaries into one and print the result:"
   ]
  },
  {
   "cell_type": "code",
   "execution_count": 57,
   "id": "c00cc191-8039-437f-9546-51d13b7e0d36",
   "metadata": {},
   "outputs": [
    {
     "name": "stdout",
     "output_type": "stream",
     "text": [
      "{'a': 1, 'b': 2, 'c': 3, 'd': 4}\n"
     ]
    }
   ],
   "source": [
    "dict1 = {\"a\": 1, \"b\": 2}\n",
    "dict2 = {\"c\": 3, \"d\": 4}\n",
    "\n",
    "combined_dict = {**dict1, **dict2}\n",
    "print(combined_dict)  \n"
   ]
  },
  {
   "cell_type": "markdown",
   "id": "e0a58ba4-6c2f-4c32-bb03-2a8ec94b5112",
   "metadata": {},
   "source": [
    "30. Write a code to convert a list of strings into a set:"
   ]
  },
  {
   "cell_type": "code",
   "execution_count": 59,
   "id": "1518ffd7-bd61-46d6-b3c0-bfd8ed09eb79",
   "metadata": {},
   "outputs": [
    {
     "name": "stdout",
     "output_type": "stream",
     "text": [
      "{'banana', 'cherry', 'apple'}\n"
     ]
    }
   ],
   "source": [
    "my_list = [\"apple\", \"banana\", \"cherry\", \"apple\"]\n",
    "my_set = set(my_list)\n",
    "print(my_set)  "
   ]
  },
  {
   "cell_type": "code",
   "execution_count": null,
   "id": "4753337b-102b-45db-bdde-70708d36cf8b",
   "metadata": {},
   "outputs": [],
   "source": []
  }
 ],
 "metadata": {
  "kernelspec": {
   "display_name": "Python 3 (ipykernel)",
   "language": "python",
   "name": "python3"
  },
  "language_info": {
   "codemirror_mode": {
    "name": "ipython",
    "version": 3
   },
   "file_extension": ".py",
   "mimetype": "text/x-python",
   "name": "python",
   "nbconvert_exporter": "python",
   "pygments_lexer": "ipython3",
   "version": "3.12.7"
  }
 },
 "nbformat": 4,
 "nbformat_minor": 5
}
